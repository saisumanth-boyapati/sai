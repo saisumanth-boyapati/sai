{
  "metadata": {
    "kernelspec": {
      "language": "python",
      "display_name": "Python 3",
      "name": "python3"
    },
    "language_info": {
      "name": "python",
      "version": "3.10.12",
      "mimetype": "text/x-python",
      "codemirror_mode": {
        "name": "ipython",
        "version": 3
      },
      "pygments_lexer": "ipython3",
      "nbconvert_exporter": "python",
      "file_extension": ".py"
    },
    "kaggle": {
      "accelerator": "none",
      "dataSources": [
        {
          "sourceId": 4226692,
          "sourceType": "datasetVersion",
          "datasetId": 2491159
        }
      ],
      "dockerImageVersionId": 30626,
      "isInternetEnabled": false,
      "language": "python",
      "sourceType": "notebook",
      "isGpuEnabled": false
    },
    "colab": {
      "name": "notebook1a2258af3e",
      "provenance": [],
      "include_colab_link": true
    }
  },
  "nbformat_minor": 0,
  "nbformat": 4,
  "cells": [
    {
      "cell_type": "markdown",
      "metadata": {
        "id": "view-in-github",
        "colab_type": "text"
      },
      "source": [
        "<a href=\"https://colab.research.google.com/github/saisumanth-boyapati/sai/blob/main/notebook1a2258af3e.ipynb\" target=\"_parent\"><img src=\"https://colab.research.google.com/assets/colab-badge.svg\" alt=\"Open In Colab\"/></a>"
      ]
    },
    {
      "source": [
        "\n",
        "# IMPORTANT: RUN THIS CELL IN ORDER TO IMPORT YOUR KAGGLE DATA SOURCES\n",
        "# TO THE CORRECT LOCATION (/kaggle/input) IN YOUR NOTEBOOK,\n",
        "# THEN FEEL FREE TO DELETE THIS CELL.\n",
        "# NOTE: THIS NOTEBOOK ENVIRONMENT DIFFERS FROM KAGGLE'S PYTHON\n",
        "# ENVIRONMENT SO THERE MAY BE MISSING LIBRARIES USED BY YOUR\n",
        "# NOTEBOOK.\n",
        "\n",
        "import os\n",
        "import sys\n",
        "from tempfile import NamedTemporaryFile\n",
        "from urllib.request import urlopen\n",
        "from urllib.parse import unquote, urlparse\n",
        "from urllib.error import HTTPError\n",
        "from zipfile import ZipFile\n",
        "import tarfile\n",
        "import shutil\n",
        "\n",
        "CHUNK_SIZE = 40960\n",
        "DATA_SOURCE_MAPPING = 'car-price-predictionused-cars:https%3A%2F%2Fstorage.googleapis.com%2Fkaggle-data-sets%2F2491159%2F4226692%2Fbundle%2Farchive.zip%3FX-Goog-Algorithm%3DGOOG4-RSA-SHA256%26X-Goog-Credential%3Dgcp-kaggle-com%2540kaggle-161607.iam.gserviceaccount.com%252F20240714%252Fauto%252Fstorage%252Fgoog4_request%26X-Goog-Date%3D20240714T163116Z%26X-Goog-Expires%3D259200%26X-Goog-SignedHeaders%3Dhost%26X-Goog-Signature%3D90678d56865c124f127f34800b573cb00fdc960c657e2e83001d8063a401d2c1ee531c5f7c0d6598acd09b1edf971b473b6371bae5d176d37db6ad69c00afc8132494e53472ae065c7cb8241063f1c92f2da3d1718395776fcd7d52cb70cfe7b1541c32f9c4839ff939a549eadef2e556ebfb30cf9e9d2f57b4198f16f821601c0d96b18f229f737e9e0a3bad022b6608ada49b7c6e2f54c682830b0100402c10cee940990864883590198441327c84e0abd077749e3ab9e2af042f3410048fa01e0896862faa7b4735fdc040115479831d4ec355cdde378f20798d4a9d29c6a9fdc2e6ee2e198217693e2b31d9b4861c1b9f31135ff5a1e2ca479d8aef98c7b'\n",
        "\n",
        "KAGGLE_INPUT_PATH='/kaggle/input'\n",
        "KAGGLE_WORKING_PATH='/kaggle/working'\n",
        "KAGGLE_SYMLINK='kaggle'\n",
        "\n",
        "!umount /kaggle/input/ 2> /dev/null\n",
        "shutil.rmtree('/kaggle/input', ignore_errors=True)\n",
        "os.makedirs(KAGGLE_INPUT_PATH, 0o777, exist_ok=True)\n",
        "os.makedirs(KAGGLE_WORKING_PATH, 0o777, exist_ok=True)\n",
        "\n",
        "try:\n",
        "  os.symlink(KAGGLE_INPUT_PATH, os.path.join(\"..\", 'input'), target_is_directory=True)\n",
        "except FileExistsError:\n",
        "  pass\n",
        "try:\n",
        "  os.symlink(KAGGLE_WORKING_PATH, os.path.join(\"..\", 'working'), target_is_directory=True)\n",
        "except FileExistsError:\n",
        "  pass\n",
        "\n",
        "for data_source_mapping in DATA_SOURCE_MAPPING.split(','):\n",
        "    directory, download_url_encoded = data_source_mapping.split(':')\n",
        "    download_url = unquote(download_url_encoded)\n",
        "    filename = urlparse(download_url).path\n",
        "    destination_path = os.path.join(KAGGLE_INPUT_PATH, directory)\n",
        "    try:\n",
        "        with urlopen(download_url) as fileres, NamedTemporaryFile() as tfile:\n",
        "            total_length = fileres.headers['content-length']\n",
        "            print(f'Downloading {directory}, {total_length} bytes compressed')\n",
        "            dl = 0\n",
        "            data = fileres.read(CHUNK_SIZE)\n",
        "            while len(data) > 0:\n",
        "                dl += len(data)\n",
        "                tfile.write(data)\n",
        "                done = int(50 * dl / int(total_length))\n",
        "                sys.stdout.write(f\"\\r[{'=' * done}{' ' * (50-done)}] {dl} bytes downloaded\")\n",
        "                sys.stdout.flush()\n",
        "                data = fileres.read(CHUNK_SIZE)\n",
        "            if filename.endswith('.zip'):\n",
        "              with ZipFile(tfile) as zfile:\n",
        "                zfile.extractall(destination_path)\n",
        "            else:\n",
        "              with tarfile.open(tfile.name) as tarfile:\n",
        "                tarfile.extractall(destination_path)\n",
        "            print(f'\\nDownloaded and uncompressed: {directory}')\n",
        "    except HTTPError as e:\n",
        "        print(f'Failed to load (likely expired) {download_url} to path {destination_path}')\n",
        "        continue\n",
        "    except OSError as e:\n",
        "        print(f'Failed to load {download_url} to path {destination_path}')\n",
        "        continue\n",
        "\n",
        "print('Data source import complete.')\n"
      ],
      "metadata": {
        "id": "5gj4jUiIVQK1"
      },
      "cell_type": "code",
      "outputs": [],
      "execution_count": null
    },
    {
      "cell_type": "code",
      "source": [
        "# This Python 3 environment comes with many helpful analytics libraries installed\n",
        "# It is defined by the kaggle/python Docker image: https://github.com/kaggle/docker-python\n",
        "# For example, here's several helpful packages to load\n",
        "\n",
        "import numpy as np # linear algebra\n",
        "import pandas as pd # data processing, CSV file I/O (e.g. pd.read_csv)\n",
        "\n",
        "# Input data files are available in the read-only \"../input/\" directory\n",
        "# For example, running this (by clicking run or pressing Shift+Enter) will list all files under the input directory\n",
        "\n",
        "import os\n",
        "for dirname, _, filenames in os.walk('/kaggle/input'):\n",
        "    for filename in filenames:\n",
        "        print(os.path.join(dirname, filename))\n",
        "\n",
        "# You can write up to 20GB to the current directory (/kaggle/working/) that gets preserved as output when you create a version using \"Save & Run All\"\n",
        "# You can also write temporary files to /kaggle/temp/, but they won't be saved outside of the current session"
      ],
      "metadata": {
        "_uuid": "8f2839f25d086af736a60e9eeb907d3b93b6e0e5",
        "_cell_guid": "b1076dfc-b9ad-4769-8c92-a6c4dae69d19",
        "execution": {
          "iopub.status.busy": "2024-07-14T16:27:11.783949Z",
          "iopub.execute_input": "2024-07-14T16:27:11.784392Z",
          "iopub.status.idle": "2024-07-14T16:27:11.797321Z",
          "shell.execute_reply.started": "2024-07-14T16:27:11.784356Z",
          "shell.execute_reply": "2024-07-14T16:27:11.796208Z"
        },
        "trusted": true,
        "id": "1MY3z7NEVQK3"
      },
      "execution_count": null,
      "outputs": []
    },
    {
      "cell_type": "markdown",
      "source": [
        "Additional imports."
      ],
      "metadata": {
        "id": "xBNfYVM7VQK4"
      }
    },
    {
      "cell_type": "code",
      "source": [
        "import matplotlib.pyplot as plt\n",
        "import seaborn as sns"
      ],
      "metadata": {
        "execution": {
          "iopub.status.busy": "2024-07-14T16:27:11.800554Z",
          "iopub.execute_input": "2024-07-14T16:27:11.800936Z",
          "iopub.status.idle": "2024-07-14T16:27:11.805499Z",
          "shell.execute_reply.started": "2024-07-14T16:27:11.800902Z",
          "shell.execute_reply": "2024-07-14T16:27:11.804684Z"
        },
        "trusted": true,
        "id": "Dvx1_GLBVQK6"
      },
      "execution_count": null,
      "outputs": []
    },
    {
      "cell_type": "markdown",
      "source": [
        "Load the dataset and display some rows of the dataframe."
      ],
      "metadata": {
        "id": "1mNgDoKbVQK6"
      }
    },
    {
      "cell_type": "code",
      "source": [
        "car_data = os.path.join(dirname, filename)\n",
        "df_cars = pd.read_csv(car_data)\n",
        "print(f\"Shape of the dataset: {df_cars.shape[0]} rows, {df_cars.shape[1]} columns\")\n"
      ],
      "metadata": {
        "execution": {
          "iopub.status.busy": "2024-07-14T16:27:11.807457Z",
          "iopub.execute_input": "2024-07-14T16:27:11.80811Z",
          "iopub.status.idle": "2024-07-14T16:27:11.823449Z",
          "shell.execute_reply.started": "2024-07-14T16:27:11.808079Z",
          "shell.execute_reply": "2024-07-14T16:27:11.822688Z"
        },
        "trusted": true,
        "id": "aLCqAoH5VQK7"
      },
      "execution_count": null,
      "outputs": []
    },
    {
      "cell_type": "code",
      "source": [
        "df_cars.head()"
      ],
      "metadata": {
        "execution": {
          "iopub.status.busy": "2024-07-14T16:27:11.824924Z",
          "iopub.execute_input": "2024-07-14T16:27:11.830981Z",
          "iopub.status.idle": "2024-07-14T16:27:11.857054Z",
          "shell.execute_reply.started": "2024-07-14T16:27:11.830944Z",
          "shell.execute_reply": "2024-07-14T16:27:11.856217Z"
        },
        "trusted": true,
        "id": "gvDyS5AXVQK7"
      },
      "execution_count": null,
      "outputs": []
    },
    {
      "cell_type": "markdown",
      "source": [
        "## Some Explorative Data Analysis  \n",
        "\n",
        "Unique values of categorical variables."
      ],
      "metadata": {
        "id": "Y19FahO2VQK8"
      }
    },
    {
      "cell_type": "code",
      "source": [
        "print(f\"Year of the car values: {sorted(df_cars['Year'].unique())}\")\n",
        "print(f\"Fuel type values: {df_cars['Fuel_Type'].unique()}\")\n",
        "print(f\"Selling type values: {df_cars['Selling_type'].unique()}\")\n",
        "print(f\"Transmission values: {df_cars['Transmission'].unique()}\")\n",
        "print(f\"Number of owners: {sorted(df_cars['Owner'].unique())}\")"
      ],
      "metadata": {
        "execution": {
          "iopub.status.busy": "2024-07-14T16:27:11.859007Z",
          "iopub.execute_input": "2024-07-14T16:27:11.859586Z",
          "iopub.status.idle": "2024-07-14T16:27:11.871272Z",
          "shell.execute_reply.started": "2024-07-14T16:27:11.859555Z",
          "shell.execute_reply": "2024-07-14T16:27:11.870409Z"
        },
        "trusted": true,
        "id": "O3BBXmdCVQK8"
      },
      "execution_count": null,
      "outputs": []
    },
    {
      "cell_type": "markdown",
      "source": [
        "Basic statistic of continous variables."
      ],
      "metadata": {
        "id": "jyC-WIi2VQK8"
      }
    },
    {
      "cell_type": "code",
      "source": [
        "df_cars[['Selling_Price', 'Present_Price', 'Driven_kms']].describe()"
      ],
      "metadata": {
        "execution": {
          "iopub.status.busy": "2024-07-14T16:27:11.87295Z",
          "iopub.execute_input": "2024-07-14T16:27:11.87356Z",
          "iopub.status.idle": "2024-07-14T16:27:11.914132Z",
          "shell.execute_reply.started": "2024-07-14T16:27:11.873526Z",
          "shell.execute_reply": "2024-07-14T16:27:11.91334Z"
        },
        "trusted": true,
        "id": "f_2kjhYBVQK9"
      },
      "execution_count": null,
      "outputs": []
    },
    {
      "cell_type": "markdown",
      "source": [
        "Check null values and data types."
      ],
      "metadata": {
        "id": "YRRFj-LAVQK9"
      }
    },
    {
      "cell_type": "code",
      "source": [
        "df_cars.info()"
      ],
      "metadata": {
        "execution": {
          "iopub.status.busy": "2024-07-14T16:27:11.915498Z",
          "iopub.execute_input": "2024-07-14T16:27:11.916094Z",
          "iopub.status.idle": "2024-07-14T16:27:11.937046Z",
          "shell.execute_reply.started": "2024-07-14T16:27:11.91605Z",
          "shell.execute_reply": "2024-07-14T16:27:11.936247Z"
        },
        "trusted": true,
        "id": "Evt_rkW2VQK9"
      },
      "execution_count": null,
      "outputs": []
    },
    {
      "cell_type": "code",
      "source": [
        "grp_year = pd.DataFrame(df_cars.groupby(by=['Year'])['Car_Name'].count()).reset_index().rename(columns={'Car_Name': 'No of Cars Sold'})\n",
        "fig, ax = plt.subplots(figsize=(9,5))\n",
        "sns.despine(fig)\n",
        "sns.barplot(grp_year, x='Year', y='No of Cars Sold', color='tab:blue')\n",
        "ax.set_xlabel('Year of the car')\n",
        "ax.set_ylabel('No. of cars sold')\n",
        "ax.set_title('No. of cars sold by prodcution year')\n",
        "plt.show()"
      ],
      "metadata": {
        "execution": {
          "iopub.status.busy": "2024-07-14T16:27:11.938416Z",
          "iopub.execute_input": "2024-07-14T16:27:11.938986Z",
          "iopub.status.idle": "2024-07-14T16:27:12.235221Z",
          "shell.execute_reply.started": "2024-07-14T16:27:11.938954Z",
          "shell.execute_reply": "2024-07-14T16:27:12.234382Z"
        },
        "trusted": true,
        "id": "cCRuykmFVQK-"
      },
      "execution_count": null,
      "outputs": []
    },
    {
      "cell_type": "code",
      "source": [
        "sns.relplot(df_cars, x='Present_Price', y='Selling_Price', hue='Selling_type')\n",
        "plt.show()"
      ],
      "metadata": {
        "execution": {
          "iopub.status.busy": "2024-07-14T16:27:12.240923Z",
          "iopub.execute_input": "2024-07-14T16:27:12.243332Z",
          "iopub.status.idle": "2024-07-14T16:27:12.756412Z",
          "shell.execute_reply.started": "2024-07-14T16:27:12.243295Z",
          "shell.execute_reply": "2024-07-14T16:27:12.755568Z"
        },
        "trusted": true,
        "id": "OCUZXRFrVQK-"
      },
      "execution_count": null,
      "outputs": []
    },
    {
      "cell_type": "markdown",
      "source": [
        "## Unsupervised Models  \n",
        "\n",
        "Even if the dataset is not high dimensional some unsupervised models are used to identify certain classes."
      ],
      "metadata": {
        "id": "qN5H38UIVQK-"
      }
    },
    {
      "cell_type": "code",
      "source": [
        "from sklearn.preprocessing import StandardScaler\n",
        "from sklearn.preprocessing import MinMaxScaler\n",
        "from sklearn.manifold import TSNE\n",
        "from sklearn.manifold import MDS\n",
        "from sklearn.decomposition import PCA\n",
        "from sklearn.decomposition import NMF"
      ],
      "metadata": {
        "execution": {
          "iopub.status.busy": "2024-07-14T16:27:12.761112Z",
          "iopub.execute_input": "2024-07-14T16:27:12.76348Z",
          "iopub.status.idle": "2024-07-14T16:27:12.77638Z",
          "shell.execute_reply.started": "2024-07-14T16:27:12.763441Z",
          "shell.execute_reply": "2024-07-14T16:27:12.775332Z"
        },
        "trusted": true,
        "id": "S77D4W27VQK_"
      },
      "execution_count": null,
      "outputs": []
    },
    {
      "cell_type": "code",
      "source": [
        "df_cont = df_cars[['Selling_Price', 'Present_Price', 'Driven_kms']]\n",
        "scaler = StandardScaler()\n",
        "X = scaler.fit_transform(df_cont)"
      ],
      "metadata": {
        "execution": {
          "iopub.status.busy": "2024-07-14T16:27:12.777308Z",
          "iopub.execute_input": "2024-07-14T16:27:12.77761Z",
          "iopub.status.idle": "2024-07-14T16:27:12.804191Z",
          "shell.execute_reply.started": "2024-07-14T16:27:12.777582Z",
          "shell.execute_reply": "2024-07-14T16:27:12.803302Z"
        },
        "trusted": true,
        "id": "PM2PpN8oVQK_"
      },
      "execution_count": null,
      "outputs": []
    },
    {
      "cell_type": "code",
      "source": [
        "tsne = TSNE(n_components=2, random_state=224)\n",
        "X_trans = tsne.fit_transform(X)"
      ],
      "metadata": {
        "execution": {
          "iopub.status.busy": "2024-07-14T16:27:12.808916Z",
          "iopub.execute_input": "2024-07-14T16:27:12.811345Z",
          "iopub.status.idle": "2024-07-14T16:27:15.127399Z",
          "shell.execute_reply.started": "2024-07-14T16:27:12.811306Z",
          "shell.execute_reply": "2024-07-14T16:27:15.126557Z"
        },
        "trusted": true,
        "id": "R3NPu9tiVQK_"
      },
      "execution_count": null,
      "outputs": []
    },
    {
      "cell_type": "code",
      "source": [
        "df_trans = pd.DataFrame(data={'tsne_1': X_trans[:,0], 'tsne_2': X_trans[:,1]})\n",
        "plt.figure(figsize=(6,6))\n",
        "sns.scatterplot(data=df_trans, x='tsne_1', y='tsne_2', hue=df_cars['Selling_type'])\n",
        "plt.show()"
      ],
      "metadata": {
        "execution": {
          "iopub.status.busy": "2024-07-14T16:27:15.132017Z",
          "iopub.execute_input": "2024-07-14T16:27:15.134349Z",
          "iopub.status.idle": "2024-07-14T16:27:15.501941Z",
          "shell.execute_reply.started": "2024-07-14T16:27:15.134314Z",
          "shell.execute_reply": "2024-07-14T16:27:15.501037Z"
        },
        "trusted": true,
        "id": "gzD2yT-OVQLA"
      },
      "execution_count": null,
      "outputs": []
    },
    {
      "cell_type": "code",
      "source": [
        "mds = MDS(n_components=2, random_state=224)\n",
        "X_trans = mds.fit_transform(X)"
      ],
      "metadata": {
        "execution": {
          "iopub.status.busy": "2024-07-14T16:27:15.506581Z",
          "iopub.execute_input": "2024-07-14T16:27:15.509066Z",
          "iopub.status.idle": "2024-07-14T16:27:16.885506Z",
          "shell.execute_reply.started": "2024-07-14T16:27:15.509025Z",
          "shell.execute_reply": "2024-07-14T16:27:16.884674Z"
        },
        "trusted": true,
        "id": "jNtVrOuAVQLA"
      },
      "execution_count": null,
      "outputs": []
    },
    {
      "cell_type": "code",
      "source": [
        "df_trans = pd.DataFrame(data={'mds_1': X_trans[:,0], 'mds_2': X_trans[:,1]})\n",
        "plt.figure(figsize=(6,6))\n",
        "sns.scatterplot(data=df_trans, x='mds_1', y='mds_2', hue=df_cars['Selling_type'])\n",
        "plt.show()"
      ],
      "metadata": {
        "execution": {
          "iopub.status.busy": "2024-07-14T16:27:16.890589Z",
          "iopub.execute_input": "2024-07-14T16:27:16.893044Z",
          "iopub.status.idle": "2024-07-14T16:27:17.157995Z",
          "shell.execute_reply.started": "2024-07-14T16:27:16.893006Z",
          "shell.execute_reply": "2024-07-14T16:27:17.157147Z"
        },
        "trusted": true,
        "id": "tV6p0fQAVQLA"
      },
      "execution_count": null,
      "outputs": []
    },
    {
      "cell_type": "code",
      "source": [
        "pca = PCA(n_components=2, random_state=224)\n",
        "X_trans = pca.fit_transform(X)"
      ],
      "metadata": {
        "execution": {
          "iopub.status.busy": "2024-07-14T16:27:17.162567Z",
          "iopub.execute_input": "2024-07-14T16:27:17.16517Z",
          "iopub.status.idle": "2024-07-14T16:27:17.172154Z",
          "shell.execute_reply.started": "2024-07-14T16:27:17.165128Z",
          "shell.execute_reply": "2024-07-14T16:27:17.171292Z"
        },
        "trusted": true,
        "id": "aVRpm_muVQLA"
      },
      "execution_count": null,
      "outputs": []
    },
    {
      "cell_type": "code",
      "source": [
        "df_trans = pd.DataFrame(data={'pca_1': X_trans[:,0], 'pca_2': X_trans[:,1]})\n",
        "plt.figure(figsize=(6,6))\n",
        "sns.scatterplot(data=df_trans, x='pca_1', y='pca_2', hue=df_cars['Selling_type'])\n",
        "plt.show()"
      ],
      "metadata": {
        "execution": {
          "iopub.status.busy": "2024-07-14T16:27:17.17713Z",
          "iopub.execute_input": "2024-07-14T16:27:17.179798Z",
          "iopub.status.idle": "2024-07-14T16:27:17.448861Z",
          "shell.execute_reply.started": "2024-07-14T16:27:17.179762Z",
          "shell.execute_reply": "2024-07-14T16:27:17.448009Z"
        },
        "trusted": true,
        "id": "6pO0xYb1VQLB"
      },
      "execution_count": null,
      "outputs": []
    },
    {
      "cell_type": "code",
      "source": [
        "scaler = MinMaxScaler()\n",
        "X = scaler.fit_transform(df_cont)\n",
        "\n",
        "nmf = NMF(n_components=2, init='nndsvd', random_state=224)\n",
        "X_trans = nmf.fit_transform(X)"
      ],
      "metadata": {
        "execution": {
          "iopub.status.busy": "2024-07-14T16:27:17.453345Z",
          "iopub.execute_input": "2024-07-14T16:27:17.455819Z",
          "iopub.status.idle": "2024-07-14T16:27:17.470342Z",
          "shell.execute_reply.started": "2024-07-14T16:27:17.455781Z",
          "shell.execute_reply": "2024-07-14T16:27:17.469186Z"
        },
        "trusted": true,
        "id": "EgopuvoRVQLB"
      },
      "execution_count": null,
      "outputs": []
    },
    {
      "cell_type": "code",
      "source": [
        "df_trans = pd.DataFrame(data={'nmf_1': X_trans[:,0], 'nmf_2': X_trans[:,1]})\n",
        "plt.figure(figsize=(6,6))\n",
        "sns.scatterplot(data=df_trans, x='nmf_1', y='nmf_2', hue=df_cars['Selling_type'])\n",
        "plt.show()"
      ],
      "metadata": {
        "execution": {
          "iopub.status.busy": "2024-07-14T16:27:17.47543Z",
          "iopub.execute_input": "2024-07-14T16:27:17.47791Z",
          "iopub.status.idle": "2024-07-14T16:27:17.833187Z",
          "shell.execute_reply.started": "2024-07-14T16:27:17.477873Z",
          "shell.execute_reply": "2024-07-14T16:27:17.832054Z"
        },
        "trusted": true,
        "id": "jBqovunHVQLB"
      },
      "execution_count": null,
      "outputs": []
    },
    {
      "cell_type": "code",
      "source": [
        "from sklearn.cluster import DBSCAN"
      ],
      "metadata": {
        "execution": {
          "iopub.status.busy": "2024-07-14T16:27:17.839148Z",
          "iopub.execute_input": "2024-07-14T16:27:17.841974Z",
          "iopub.status.idle": "2024-07-14T16:27:17.854978Z",
          "shell.execute_reply.started": "2024-07-14T16:27:17.841922Z",
          "shell.execute_reply": "2024-07-14T16:27:17.853769Z"
        },
        "trusted": true,
        "id": "rFqRxKY0VQLB"
      },
      "execution_count": null,
      "outputs": []
    },
    {
      "cell_type": "code",
      "source": [
        "scaler = StandardScaler()\n",
        "X = scaler.fit_transform(df_cont)\n",
        "\n",
        "db = DBSCAN(eps=0.3, min_samples=10).fit(X)\n",
        "labels = db.labels_\n",
        "\n",
        "n_clusters_ = len(set(labels)) - (1 if -1 in labels else 0)\n",
        "n_noise_ = list(labels).count(-1)\n",
        "\n",
        "print(\"Estimated number of clusters: %d\" % n_clusters_)\n",
        "print(\"Estimated number of noise points: %d\" % n_noise_)"
      ],
      "metadata": {
        "execution": {
          "iopub.status.busy": "2024-07-14T16:27:17.865698Z",
          "iopub.execute_input": "2024-07-14T16:27:17.869526Z",
          "iopub.status.idle": "2024-07-14T16:27:17.895599Z",
          "shell.execute_reply.started": "2024-07-14T16:27:17.869475Z",
          "shell.execute_reply": "2024-07-14T16:27:17.894506Z"
        },
        "trusted": true,
        "id": "tV1GuGNeVQLB"
      },
      "execution_count": null,
      "outputs": []
    },
    {
      "cell_type": "code",
      "source": [
        "unique_labels = set(labels)\n",
        "core_samples_mask = np.zeros_like(labels, dtype=bool)\n",
        "core_samples_mask[db.core_sample_indices_] = True\n",
        "\n",
        "colors = [plt.cm.Spectral(each) for each in np.linspace(0, 1, len(unique_labels))]\n",
        "for k, col in zip(unique_labels, colors):\n",
        "    if k == -1:\n",
        "        # Black used for noise.\n",
        "        col = [0, 0, 0, 1]\n",
        "\n",
        "    class_member_mask = labels == k\n",
        "\n",
        "    xy = X[class_member_mask & core_samples_mask]\n",
        "    plt.plot(\n",
        "        xy[:, 0],\n",
        "        xy[:, 1],\n",
        "        \"o\",\n",
        "        markerfacecolor=tuple(col),\n",
        "        markeredgecolor=\"k\",\n",
        "        markersize=14,\n",
        "    )\n",
        "\n",
        "    xy = X[class_member_mask & ~core_samples_mask]\n",
        "    plt.plot(\n",
        "        xy[:, 0],\n",
        "        xy[:, 1],\n",
        "        \"o\",\n",
        "        markerfacecolor=tuple(col),\n",
        "        markeredgecolor=\"k\",\n",
        "        markersize=6,\n",
        "    )\n",
        "\n",
        "plt.title(f\"Estimated number of clusters: {n_clusters_}\")\n",
        "plt.show()\n"
      ],
      "metadata": {
        "execution": {
          "iopub.status.busy": "2024-07-14T16:27:17.902029Z",
          "iopub.execute_input": "2024-07-14T16:27:17.905421Z",
          "iopub.status.idle": "2024-07-14T16:27:18.206104Z",
          "shell.execute_reply.started": "2024-07-14T16:27:17.905368Z",
          "shell.execute_reply": "2024-07-14T16:27:18.205039Z"
        },
        "trusted": true,
        "id": "J35WwvDuVQLB"
      },
      "execution_count": null,
      "outputs": []
    },
    {
      "cell_type": "markdown",
      "source": [
        "## Simple Classification  \n",
        "\n",
        "Use the `Selling_Price`, `Present_Price` and `Driven_kms` to predict the `Selling_type`, whether the selling type is `Dealer` or `Individual`. A default Logistic Regression classifier is used on the scaled values of the dataset."
      ],
      "metadata": {
        "id": "GtfpWMGRVQLC"
      }
    },
    {
      "cell_type": "code",
      "source": [
        "from sklearn.linear_model import LogisticRegression\n",
        "from sklearn.model_selection import train_test_split\n",
        "from sklearn.metrics import accuracy_score"
      ],
      "metadata": {
        "execution": {
          "iopub.status.busy": "2024-07-14T16:27:18.211861Z",
          "iopub.execute_input": "2024-07-14T16:27:18.214993Z",
          "iopub.status.idle": "2024-07-14T16:27:18.222576Z",
          "shell.execute_reply.started": "2024-07-14T16:27:18.214943Z",
          "shell.execute_reply": "2024-07-14T16:27:18.221443Z"
        },
        "trusted": true,
        "id": "y0JFXlDyVQLC"
      },
      "execution_count": null,
      "outputs": []
    },
    {
      "cell_type": "code",
      "source": [
        "X = df_cars[['Selling_Price', 'Present_Price', 'Driven_kms']]\n",
        "y = df_cars['Selling_type']\n",
        "\n",
        "X_train, X_test, y_train, y_test = train_test_split(X, y, test_size=0.2, random_state=224)\n",
        "scaler = StandardScaler()\n",
        "X_scaled = scaler.fit_transform(X_train)\n",
        "\n",
        "lr = LogisticRegression(random_state=224)\n",
        "lr.fit(X_scaled, y_train)\n",
        "\n",
        "X_test_scaled = scaler.transform(X_test)\n",
        "y_pred = lr.predict(X_test_scaled)\n",
        "\n",
        "print(f\"Accuracy score: {accuracy_score(y_test, y_pred)}\")"
      ],
      "metadata": {
        "execution": {
          "iopub.status.busy": "2024-07-14T16:27:18.227007Z",
          "iopub.execute_input": "2024-07-14T16:27:18.228561Z",
          "iopub.status.idle": "2024-07-14T16:27:18.270838Z",
          "shell.execute_reply.started": "2024-07-14T16:27:18.228519Z",
          "shell.execute_reply": "2024-07-14T16:27:18.269718Z"
        },
        "trusted": true,
        "id": "OJry3KXRVQLC"
      },
      "execution_count": null,
      "outputs": []
    },
    {
      "cell_type": "markdown",
      "source": [
        "## Price prediction  \n",
        "\n",
        "Using a linear regression model to predict the price."
      ],
      "metadata": {
        "id": "fX_8pN9DVQLC"
      }
    },
    {
      "cell_type": "code",
      "source": [
        "from sklearn.linear_model import LinearRegression\n",
        "from sklearn.preprocessing import OneHotEncoder\n",
        "from sklearn.metrics import r2_score, mean_squared_error, mean_absolute_error, mean_absolute_percentage_error"
      ],
      "metadata": {
        "execution": {
          "iopub.status.busy": "2024-07-14T16:27:18.281848Z",
          "iopub.execute_input": "2024-07-14T16:27:18.285069Z",
          "iopub.status.idle": "2024-07-14T16:27:18.292654Z",
          "shell.execute_reply.started": "2024-07-14T16:27:18.285023Z",
          "shell.execute_reply": "2024-07-14T16:27:18.291516Z"
        },
        "trusted": true,
        "id": "eFHSFwtTVQLD"
      },
      "execution_count": null,
      "outputs": []
    },
    {
      "cell_type": "code",
      "source": [
        "X = df_cars[['Present_Price', 'Driven_kms']]\n",
        "y = df_cars['Selling_Price']\n",
        "\n",
        "lr = LinearRegression()\n",
        "X_train, X_test, y_train, y_test = train_test_split(X, y, test_size=0.2, random_state=224)\n",
        "lr.fit(X_train, y_train)\n",
        "\n",
        "y_pred = lr.predict(X_test)\n",
        "\n",
        "print(f\"r^2 score: {r2_score(y_test, y_pred)}\")\n",
        "print(f\"MSE: {mean_squared_error(y_test, y_pred)}\")\n",
        "print(f\"MAE: {mean_absolute_error(y_test, y_pred)}\")\n",
        "print(f\"MAPE: {mean_absolute_percentage_error(y_test, y_pred)}\")"
      ],
      "metadata": {
        "execution": {
          "iopub.status.busy": "2024-07-14T16:27:18.298201Z",
          "iopub.execute_input": "2024-07-14T16:27:18.300089Z",
          "iopub.status.idle": "2024-07-14T16:27:18.331806Z",
          "shell.execute_reply.started": "2024-07-14T16:27:18.300045Z",
          "shell.execute_reply": "2024-07-14T16:27:18.330729Z"
        },
        "trusted": true,
        "id": "EldaNeryVQLD"
      },
      "execution_count": null,
      "outputs": []
    },
    {
      "cell_type": "code",
      "source": [
        "df_cars.sort_values(by=['Selling_Price'], ascending=False).head(10)"
      ],
      "metadata": {
        "execution": {
          "iopub.status.busy": "2024-07-14T16:27:18.337501Z",
          "iopub.execute_input": "2024-07-14T16:27:18.340685Z",
          "iopub.status.idle": "2024-07-14T16:27:18.369734Z",
          "shell.execute_reply.started": "2024-07-14T16:27:18.340612Z",
          "shell.execute_reply": "2024-07-14T16:27:18.368714Z"
        },
        "trusted": true,
        "id": "9yL65jPYVQLD"
      },
      "execution_count": null,
      "outputs": []
    },
    {
      "cell_type": "markdown",
      "source": [
        "Remove outlier."
      ],
      "metadata": {
        "id": "6LoVcxejVQLD"
      }
    },
    {
      "cell_type": "code",
      "source": [
        "df_cars = df_cars[df_cars['Selling_Price'] < 30.0]"
      ],
      "metadata": {
        "execution": {
          "iopub.status.busy": "2024-07-14T16:27:18.374998Z",
          "iopub.execute_input": "2024-07-14T16:27:18.377962Z",
          "iopub.status.idle": "2024-07-14T16:27:18.386834Z",
          "shell.execute_reply.started": "2024-07-14T16:27:18.377918Z",
          "shell.execute_reply": "2024-07-14T16:27:18.385163Z"
        },
        "trusted": true,
        "id": "FIDpbrzDVQLD"
      },
      "execution_count": null,
      "outputs": []
    },
    {
      "cell_type": "code",
      "source": [
        "X = df_cars[['Present_Price', 'Driven_kms']]\n",
        "y = df_cars['Selling_Price']\n",
        "\n",
        "lr = LinearRegression()\n",
        "X_train, X_test, y_train, y_test = train_test_split(X, y, test_size=0.2, random_state=224)\n",
        "lr.fit(X_train, y_train)\n",
        "\n",
        "y_pred = lr.predict(X_test)\n",
        "\n",
        "print(f\"r^2 score: {r2_score(y_test, y_pred)}\")\n",
        "print(f\"MSE: {mean_squared_error(y_test, y_pred)}\")\n",
        "print(f\"MAE: {mean_absolute_error(y_test, y_pred)}\")\n",
        "print(f\"MAPE: {mean_absolute_percentage_error(y_test, y_pred)}\")"
      ],
      "metadata": {
        "execution": {
          "iopub.status.busy": "2024-07-14T16:27:18.393435Z",
          "iopub.execute_input": "2024-07-14T16:27:18.395433Z",
          "iopub.status.idle": "2024-07-14T16:27:18.42489Z",
          "shell.execute_reply.started": "2024-07-14T16:27:18.395389Z",
          "shell.execute_reply": "2024-07-14T16:27:18.423889Z"
        },
        "trusted": true,
        "id": "s1WuZ18ZVQLD"
      },
      "execution_count": null,
      "outputs": []
    },
    {
      "cell_type": "code",
      "source": [
        "from sklearn.linear_model import Ridge"
      ],
      "metadata": {
        "execution": {
          "iopub.status.busy": "2024-07-14T16:27:18.430377Z",
          "iopub.execute_input": "2024-07-14T16:27:18.433442Z",
          "iopub.status.idle": "2024-07-14T16:27:18.439387Z",
          "shell.execute_reply.started": "2024-07-14T16:27:18.433395Z",
          "shell.execute_reply": "2024-07-14T16:27:18.438182Z"
        },
        "trusted": true,
        "id": "4d1e1ii_VQLJ"
      },
      "execution_count": null,
      "outputs": []
    },
    {
      "cell_type": "code",
      "source": [
        "X = df_cars[['Present_Price', 'Driven_kms']]\n",
        "y = df_cars['Selling_Price']\n",
        "\n",
        "ridge = Ridge(alpha=0.01)\n",
        "X_train, X_test, y_train, y_test = train_test_split(X, y, test_size=0.2, random_state=224)\n",
        "ridge.fit(X_train, y_train)\n",
        "\n",
        "y_pred = ridge.predict(X_test)\n",
        "\n",
        "print(f\"r^2 score: {r2_score(y_test, y_pred)}\")\n",
        "print(f\"MSE: {mean_squared_error(y_test, y_pred)}\")\n",
        "print(f\"MAE: {mean_absolute_error(y_test, y_pred)}\")\n",
        "print(f\"MAPE: {mean_absolute_percentage_error(y_test, y_pred)}\")"
      ],
      "metadata": {
        "execution": {
          "iopub.status.busy": "2024-07-14T16:27:18.445027Z",
          "iopub.execute_input": "2024-07-14T16:27:18.446052Z",
          "iopub.status.idle": "2024-07-14T16:27:18.492799Z",
          "shell.execute_reply.started": "2024-07-14T16:27:18.446007Z",
          "shell.execute_reply": "2024-07-14T16:27:18.491707Z"
        },
        "trusted": true,
        "id": "6OkeaCRFVQLJ"
      },
      "execution_count": null,
      "outputs": []
    },
    {
      "cell_type": "code",
      "source": [],
      "metadata": {
        "id": "U7_YgswKVQLJ"
      },
      "execution_count": null,
      "outputs": []
    }
  ]
}